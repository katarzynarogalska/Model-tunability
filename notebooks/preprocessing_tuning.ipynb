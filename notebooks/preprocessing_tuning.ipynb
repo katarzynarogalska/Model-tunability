{
 "cells": [
  {
   "cell_type": "markdown",
   "metadata": {},
   "source": [
    "## Preprocessing pipelines"
   ]
  },
  {
   "cell_type": "code",
   "execution_count": 1,
   "metadata": {},
   "outputs": [],
   "source": [
    "from sklearn.pipeline import Pipeline\n",
    "from sklearn.impute import SimpleImputer\n",
    "from sklearn.preprocessing import LabelEncoder, MinMaxScaler, OrdinalEncoder\n",
    "from sklearn.compose import make_column_transformer, make_column_selector, ColumnTransformer\n",
    "import pandas as pd\n",
    "import os\n",
    "import sys\n",
    "import importlib\n",
    "import joblib\n",
    "sys.path.insert(0, os.path.abspath(os.path.join(\"..\", \"transformers\")))\n",
    "from column_drop import *"
   ]
  },
  {
   "cell_type": "markdown",
   "metadata": {},
   "source": [
    "## Preprocessing pipelines"
   ]
  },
  {
   "cell_type": "markdown",
   "metadata": {},
   "source": [
    "In this part we will perform preprocessing steps as:\n",
    "* dropping irrelevant columns\n",
    "* imputing missing values\n",
    "* categorical features encoding\n",
    "* scaling \n"
   ]
  },
  {
   "cell_type": "code",
   "execution_count": 2,
   "metadata": {},
   "outputs": [],
   "source": [
    "# dropping columns\n",
    "drop_cols_pipeline = Pipeline([('missing_drop',DropMissing()),\n",
    "                               ('drop_low_variance', DropLowVarianceCategorical()),\n",
    "                               ('drop_cardinality', DropHighCardinality())])\n",
    "\n",
    "# pipeline for imputing and binning numerical cols:\n",
    "numeric_pipeline = Pipeline([('numeric_imputer', SimpleImputer(strategy='median'))])\n",
    "\n",
    "categorical_pipeline = Pipeline([('encoding', OrdinalEncoder(handle_unknown='use_encoded_value', unknown_value=-1)), # label encoder because we have a lot of unique categorical values which will result in great dimention increase\n",
    "                                 ('categorical_imputer', SimpleImputer(strategy='most_frequent'))]) \n",
    "\n",
    "transformer = ColumnTransformer([('cat_pipe', categorical_pipeline, make_column_selector(dtype_include='object')),\n",
    "                                 ('num_pipe', numeric_pipeline, make_column_selector(dtype_include='number'))],\n",
    "                                 remainder='drop',\n",
    "                                 n_jobs=-1)\n",
    "\n",
    "# final pipeline for X\n",
    "preprocessing_pipeline = Pipeline([('drop', drop_cols_pipeline),\n",
    "                                   ('column_transform', transformer),\n",
    "                                   ('scale', MinMaxScaler())])"
   ]
  },
  {
   "cell_type": "markdown",
   "metadata": {},
   "source": [
    "## Saving pipeline"
   ]
  },
  {
   "cell_type": "code",
   "execution_count": 3,
   "metadata": {},
   "outputs": [
    {
     "name": "stdout",
     "output_type": "stream",
     "text": [
      "Folder '../pipelines' został utworzony.\n"
     ]
    },
    {
     "data": {
      "text/plain": [
       "['../pipelines/preprocessing_pipeline.joblib']"
      ]
     },
     "execution_count": 3,
     "metadata": {},
     "output_type": "execute_result"
    }
   ],
   "source": [
    "pipeline_folder = '../pipelines'\n",
    "if not os.path.exists(pipeline_folder):\n",
    "        os.makedirs(pipeline_folder)\n",
    "        print(f\"Folder '{pipeline_folder}' został utworzony.\")\n",
    "\n",
    "joblib.dump(preprocessing_pipeline, '../pipelines/preprocessing_pipeline.joblib')"
   ]
  },
  {
   "cell_type": "code",
   "execution_count": null,
   "metadata": {},
   "outputs": [],
   "source": []
  }
 ],
 "metadata": {
  "kernelspec": {
   "display_name": ".venv",
   "language": "python",
   "name": "python3"
  },
  "language_info": {
   "codemirror_mode": {
    "name": "ipython",
    "version": 3
   },
   "file_extension": ".py",
   "mimetype": "text/x-python",
   "name": "python",
   "nbconvert_exporter": "python",
   "pygments_lexer": "ipython3",
   "version": "3.11.5"
  }
 },
 "nbformat": 4,
 "nbformat_minor": 2
}
