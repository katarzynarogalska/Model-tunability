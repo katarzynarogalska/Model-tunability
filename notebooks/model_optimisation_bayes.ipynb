{
 "cells": [
  {
   "cell_type": "code",
   "execution_count": 1,
   "metadata": {},
   "outputs": [],
   "source": [
    "import os\n",
    "import time\n",
    "import json\n",
    "import warnings\n",
    "import numpy as np\n",
    "import xgboost as xgb\n",
    "import pandas as pd\n",
    "\n",
    "warnings.simplefilter(\"ignore\")\n",
    "\n",
    "from sklearn import set_config\n",
    "from sklearn.linear_model import LogisticRegression\n",
    "from skopt import BayesSearchCV\n",
    "from sklearn.neighbors import KNeighborsClassifier\n",
    "from sklearn.metrics import classification_report\n",
    "from sklearn.exceptions import ConvergenceWarning\n",
    "from tqdm import tqdm\n",
    "\n",
    "warnings.simplefilter(\"ignore\", ConvergenceWarning)\n",
    "set_config(transform_output=\"pandas\")"
   ]
  },
  {
   "cell_type": "code",
   "execution_count": 2,
   "metadata": {},
   "outputs": [],
   "source": [
    "class BayesSearchCVWithProgressBar(BayesSearchCV):\n",
    "    def fit(self, X, y=None, groups=None, callback=None):\n",
    "        self._progress_bar = tqdm(\n",
    "            total=self.n_iter, desc=\"BayesSearchCV Progress\", leave=True\n",
    "        )\n",
    "\n",
    "        def update_progress(*args, **kwargs):\n",
    "            self._progress_bar.update(1)\n",
    "\n",
    "        super().fit(X, y=y, groups=groups, callback=update_progress)\n",
    "\n",
    "        self._progress_bar.close()"
   ]
  },
  {
   "cell_type": "code",
   "execution_count": 3,
   "metadata": {},
   "outputs": [],
   "source": [
    "data_dir = os.path.join(\".\", \"..\", \"data\")\n",
    "train_dir = os.path.join(data_dir, \"train\")\n",
    "test_dir = os.path.join(data_dir, \"test\")\n",
    "raport_dir = os.path.join(\".\", \"..\", \"raport\")\n",
    "\n",
    "os.makedirs(raport_dir, exist_ok=True)"
   ]
  },
  {
   "cell_type": "code",
   "execution_count": 4,
   "metadata": {},
   "outputs": [
    {
     "data": {
      "text/plain": [
       "46"
      ]
     },
     "execution_count": 4,
     "metadata": {},
     "output_type": "execute_result"
    }
   ],
   "source": [
    "\"(LP, STATUS, HRBP, REKRUTER, MANAGER_RKS, MANAGER_POS, DYREKTOR_PIONU, SPOLKA, PION, DEPARTAMENT_REGION, JEDNOSTKA_ORGANIZACYJNA, NAZWA_STANOWISKA, POZIOM_STANOWISKA, LOKALIZACJA, RODZAJ_WAKATU, IMIE_NAZWISKO_POPRZEDNIEJ_OSOBY, MODEL_PROWADZENIA_REK_DO_POS, KRYTERIUM_DECYDUJACE, DATA_ZGLOSZENIA, DATA_OTWARCIA, DATA_OSTATNIEJ_AKTUALIZACJI, DATA_POLECENIA_PIERWSZEGO_KANDYDATA, DATA_POLECENIA_ZATRUDNIONEGO_KANDYDATA, DATA_ZLOZENIA_OFERTY, IMIE_NAZWISKO_ZATRUDNIONEGO, IMIE_ZATRUDNIONEGO, NAZWISKO_ZATRUDNIONEGO, SPOSOB_POZYSKANIA_KANDYDATA, BUMERANG, WYNAGRODZENIE, DATA_ROZPOCZECIA_PRACY, LICZBA_ODRZUCONYCH_OFERT, KOMENTARZ, CLEAR, CAN_DO, CLOSE_CARE, PASSION_FOR_BETTER, JOY, PLEC, CZAS_OD_ZGLOSZENIA_REK_DO_URUCHOMIENIA, CZAS_DO_POLECENIA_PIERWSZEGO_K_BIZNESOWI, CZAS_DO_POLECENIA_ZATRUDNIONEGO_K_BIZNESOWI, CZAS_DECYZJI_BIZNESU, CZAS_OD_ROZPOCZECIA_DO_ZLOZENIA, CZAS_OD_OSTATNIEJ_ZMIANY_PROFILU_DO_ZLOZENIA_OFERTY, TIME_TO_HIRE, ID_REKRUTACJI)\".count(\n",
    "    \",\"\n",
    ")"
   ]
  },
  {
   "cell_type": "markdown",
   "metadata": {},
   "source": [
    "# Bayes Search"
   ]
  },
  {
   "cell_type": "code",
   "execution_count": 5,
   "metadata": {},
   "outputs": [],
   "source": [
    "def perform_bayes_search(\n",
    "    clf_class,\n",
    "    search_spaces,\n",
    "    n_runs,\n",
    "    cv=3,\n",
    "    verbose=0,\n",
    "    scoring=\"roc_auc\",\n",
    "    n_jobs=4,\n",
    "    random_state=42,\n",
    "    return_train_score=True,\n",
    "):\n",
    "    spaces = []\n",
    "    bases = []\n",
    "    for i in range(5):\n",
    "        print(f\"Creating optimization process for dataset {i}\")\n",
    "        bayes_search = BayesSearchCVWithProgressBar(\n",
    "            estimator=clf_class(),\n",
    "            search_spaces=search_spaces,\n",
    "            scoring=scoring,\n",
    "            cv=cv,\n",
    "            verbose=verbose,\n",
    "            n_jobs=n_jobs,\n",
    "            n_iter=n_runs,\n",
    "            return_train_score=return_train_score,\n",
    "            random_state=random_state,\n",
    "        )\n",
    "\n",
    "        X_train = pd.read_csv(os.path.join(train_dir, f\"X{i}_train_processed.csv\"))\n",
    "        y_train = pd.read_csv(os.path.join(train_dir, f\"y{i}_train.csv\")).values.ravel()\n",
    "        base_model = clf_class().fit(X_train, y_train)\n",
    "\n",
    "        t0 = time.time()\n",
    "        bayes_search.fit(X_train, y_train)\n",
    "        print(f\"\\t Took {t0 - time.time()} seconds.\")\n",
    "\n",
    "        spaces.append(bayes_search)\n",
    "        bases.append(base_model)\n",
    "    return spaces, bases"
   ]
  },
  {
   "cell_type": "code",
   "execution_count": 6,
   "metadata": {},
   "outputs": [],
   "source": [
    "def generate_raports(grids, bases, name):\n",
    "    raports = []\n",
    "    for i, (grid, base_model) in enumerate(zip(grids, bases)):\n",
    "        print(f\"Generating raport for dataset {i}\")\n",
    "\n",
    "        results = grid.cv_results_\n",
    "        X_test = pd.read_csv(os.path.join(test_dir, f\"X{i}_test_processed.csv\"))\n",
    "        y_test = pd.read_csv(os.path.join(test_dir, f\"y{i}_test.csv\")).values.ravel()\n",
    "        report = pd.DataFrame(\n",
    "            {\n",
    "                \"params\": results[\"params\"],\n",
    "                \"mean_test_score\": results[\"mean_test_score\"],\n",
    "                \"std_test_score\": results[\"std_test_score\"],\n",
    "                \"rank_test_score\": results[\"rank_test_score\"],\n",
    "            }\n",
    "        )\n",
    "\n",
    "        best_params = grid.best_params_\n",
    "        best_score = grid.best_score_\n",
    "\n",
    "        best_model = grid.best_estimator_\n",
    "\n",
    "        y_pred = best_model.predict(X_test)\n",
    "        classification_rep = classification_report(y_test, y_pred, output_dict=True)\n",
    "\n",
    "        y_pred = base_model.predict(X_test)\n",
    "        classification_rep_base = classification_report(\n",
    "            y_test, y_pred, output_dict=True\n",
    "        )\n",
    "\n",
    "        detailed_report = {\n",
    "            \"best_params\": best_params,\n",
    "            \"best_score\": best_score,\n",
    "            \"results\": report.to_dict(orient=\"records\"),\n",
    "            \"classification_report\": classification_rep,\n",
    "            \"classification_report_base\": classification_rep_base,\n",
    "        }\n",
    "        raports.append(detailed_report)\n",
    "\n",
    "    with open(os.path.join(raport_dir, name), \"w\") as f:\n",
    "        json.dump(raports, f, indent=4)\n",
    "\n",
    "    return raports"
   ]
  },
  {
   "cell_type": "markdown",
   "metadata": {},
   "source": [
    "## XGBoost"
   ]
  },
  {
   "cell_type": "markdown",
   "metadata": {},
   "source": [
    "Motivation stays the same as in [grid search](./model_optimisation_naive.ipynb). Yet will try this approach against larger models space."
   ]
  },
  {
   "cell_type": "code",
   "execution_count": 7,
   "metadata": {},
   "outputs": [],
   "source": [
    "param_space = {\n",
    "    \"n_estimators\": [100, 300, 500, 1000],\n",
    "    \"learning_rate\": [0.01, 0.05, 0.1],\n",
    "    \"max_depth\": [10, 15, 20],\n",
    "    \"min_child_weight\": [1, 2, 5, 10],\n",
    "    \"gamma\": [0, 0.15, 0.3],\n",
    "    \"n_jobs\": [-1],\n",
    "    \"eval_metric\": [\"logloss\", \"error\", \"auc\"],\n",
    "    \"random_state\": [42],\n",
    "}"
   ]
  },
  {
   "cell_type": "code",
   "execution_count": 8,
   "metadata": {},
   "outputs": [
    {
     "name": "stdout",
     "output_type": "stream",
     "text": [
      "Creating optimization process for dataset 0\n"
     ]
    },
    {
     "name": "stderr",
     "output_type": "stream",
     "text": [
      "BayesSearchCV Progress: 100%|██████████| 100/100 [02:32<00:00,  1.53s/it]\n"
     ]
    },
    {
     "name": "stdout",
     "output_type": "stream",
     "text": [
      "\t Took -152.68452095985413 seconds.\n",
      "Creating optimization process for dataset 1\n"
     ]
    },
    {
     "name": "stderr",
     "output_type": "stream",
     "text": [
      "BayesSearchCV Progress: 100%|██████████| 100/100 [04:18<00:00,  2.58s/it]\n"
     ]
    },
    {
     "name": "stdout",
     "output_type": "stream",
     "text": [
      "\t Took -258.10764026641846 seconds.\n",
      "Creating optimization process for dataset 2\n"
     ]
    },
    {
     "name": "stderr",
     "output_type": "stream",
     "text": [
      "BayesSearchCV Progress: 100%|██████████| 100/100 [04:29<00:00,  2.70s/it]\n"
     ]
    },
    {
     "name": "stdout",
     "output_type": "stream",
     "text": [
      "\t Took -269.5133328437805 seconds.\n",
      "Creating optimization process for dataset 3\n"
     ]
    },
    {
     "name": "stderr",
     "output_type": "stream",
     "text": [
      "BayesSearchCV Progress: 100%|██████████| 100/100 [06:35<00:00,  3.96s/it]\n"
     ]
    },
    {
     "name": "stdout",
     "output_type": "stream",
     "text": [
      "\t Took -395.64903593063354 seconds.\n",
      "Creating optimization process for dataset 4\n"
     ]
    },
    {
     "name": "stderr",
     "output_type": "stream",
     "text": [
      "BayesSearchCV Progress: 100%|██████████| 100/100 [04:02<00:00,  2.42s/it]"
     ]
    },
    {
     "name": "stdout",
     "output_type": "stream",
     "text": [
      "\t Took -242.16162610054016 seconds.\n"
     ]
    },
    {
     "name": "stderr",
     "output_type": "stream",
     "text": [
      "\n"
     ]
    }
   ],
   "source": [
    "grids, spaces = perform_bayes_search(\n",
    "    clf_class=xgb.XGBClassifier, search_spaces=param_space, n_runs=10**2, n_jobs=-1\n",
    ")"
   ]
  },
  {
   "cell_type": "code",
   "execution_count": 9,
   "metadata": {},
   "outputs": [
    {
     "name": "stdout",
     "output_type": "stream",
     "text": [
      "Generating raport for dataset 0\n",
      "Generating raport for dataset 1\n",
      "Generating raport for dataset 2\n",
      "Generating raport for dataset 3\n",
      "Generating raport for dataset 4\n"
     ]
    }
   ],
   "source": [
    "raports = generate_raports(grids, spaces, \"xgboost_bayes.json\")"
   ]
  },
  {
   "cell_type": "markdown",
   "metadata": {},
   "source": [
    "## Logistic Regression"
   ]
  },
  {
   "cell_type": "markdown",
   "metadata": {},
   "source": [
    "Motivation stays the same as in [grid search](./model_optimisation_naive.ipynb). Yet will try this approach against larger models space."
   ]
  },
  {
   "cell_type": "code",
   "execution_count": 19,
   "metadata": {},
   "outputs": [],
   "source": [
    "param_space = {\n",
    "    \"C\": np.logspace(-4, 4, 10),\n",
    "    # \"solver\": [\"liblinear\", \"saga\", \"lbfgs\"],\n",
    "    # \"penalty\": [\"l1\", \"l2\", \"elasticnet\"],\n",
    "    \"max_iter\": [50, 100, 200, 300, 500, 1000],\n",
    "    \"tol\": [1e-3, 1e-4, 1e-5, 1e-6],\n",
    "    \"fit_intercept\": [True, False],\n",
    "    \"class_weight\": [None, \"balanced\"],\n",
    "    \"random_state\": [42],\n",
    "    \"max_iter\": [500],\n",
    "}"
   ]
  },
  {
   "cell_type": "code",
   "execution_count": 20,
   "metadata": {},
   "outputs": [
    {
     "name": "stdout",
     "output_type": "stream",
     "text": [
      "Creating optimization process for dataset 0\n"
     ]
    },
    {
     "name": "stderr",
     "output_type": "stream",
     "text": [
      "BayesSearchCV Progress:   0%|          | 0/100 [00:54<?, ?it/s].73it/s]\n",
      "BayesSearchCV Progress: 100%|██████████| 100/100 [03:42<00:00,  2.22s/it]\n"
     ]
    },
    {
     "name": "stdout",
     "output_type": "stream",
     "text": [
      "\t Took -222.11804389953613 seconds.\n",
      "Creating optimization process for dataset 1\n"
     ]
    },
    {
     "name": "stderr",
     "output_type": "stream",
     "text": [
      "BayesSearchCV Progress: 100%|██████████| 100/100 [03:38<00:00,  2.18s/it]\n"
     ]
    },
    {
     "name": "stdout",
     "output_type": "stream",
     "text": [
      "\t Took -218.36975002288818 seconds.\n",
      "Creating optimization process for dataset 2\n"
     ]
    },
    {
     "name": "stderr",
     "output_type": "stream",
     "text": [
      "BayesSearchCV Progress: 100%|██████████| 100/100 [03:21<00:00,  2.02s/it]\n"
     ]
    },
    {
     "name": "stdout",
     "output_type": "stream",
     "text": [
      "\t Took -201.65851020812988 seconds.\n",
      "Creating optimization process for dataset 3\n"
     ]
    },
    {
     "name": "stderr",
     "output_type": "stream",
     "text": [
      "BayesSearchCV Progress:   4%|▍         | 4/100 [00:00<00:06, 15.92it/s]/opt/homebrew/Caskroom/miniconda/base/envs/automl/lib/python3.11/site-packages/sklearn/linear_model/_logistic.py:469: ConvergenceWarning: lbfgs failed to converge (status=1):\n",
      "STOP: TOTAL NO. of ITERATIONS REACHED LIMIT.\n",
      "\n",
      "Increase the number of iterations (max_iter) or scale the data as shown in:\n",
      "    https://scikit-learn.org/stable/modules/preprocessing.html\n",
      "Please also refer to the documentation for alternative solver options:\n",
      "    https://scikit-learn.org/stable/modules/linear_model.html#logistic-regression\n",
      "  n_iter_i = _check_optimize_result(\n",
      "/opt/homebrew/Caskroom/miniconda/base/envs/automl/lib/python3.11/site-packages/sklearn/linear_model/_logistic.py:469: ConvergenceWarning: lbfgs failed to converge (status=1):\n",
      "STOP: TOTAL NO. of ITERATIONS REACHED LIMIT.\n",
      "\n",
      "Increase the number of iterations (max_iter) or scale the data as shown in:\n",
      "    https://scikit-learn.org/stable/modules/preprocessing.html\n",
      "Please also refer to the documentation for alternative solver options:\n",
      "    https://scikit-learn.org/stable/modules/linear_model.html#logistic-regression\n",
      "  n_iter_i = _check_optimize_result(\n",
      "/opt/homebrew/Caskroom/miniconda/base/envs/automl/lib/python3.11/site-packages/sklearn/linear_model/_logistic.py:469: ConvergenceWarning: lbfgs failed to converge (status=1):\n",
      "STOP: TOTAL NO. of ITERATIONS REACHED LIMIT.\n",
      "\n",
      "Increase the number of iterations (max_iter) or scale the data as shown in:\n",
      "    https://scikit-learn.org/stable/modules/preprocessing.html\n",
      "Please also refer to the documentation for alternative solver options:\n",
      "    https://scikit-learn.org/stable/modules/linear_model.html#logistic-regression\n",
      "  n_iter_i = _check_optimize_result(\n",
      "BayesSearchCV Progress:   6%|▌         | 6/100 [00:00<00:06, 14.05it/s]/opt/homebrew/Caskroom/miniconda/base/envs/automl/lib/python3.11/site-packages/sklearn/linear_model/_logistic.py:469: ConvergenceWarning: lbfgs failed to converge (status=1):\n",
      "STOP: TOTAL NO. of ITERATIONS REACHED LIMIT.\n",
      "\n",
      "Increase the number of iterations (max_iter) or scale the data as shown in:\n",
      "    https://scikit-learn.org/stable/modules/preprocessing.html\n",
      "Please also refer to the documentation for alternative solver options:\n",
      "    https://scikit-learn.org/stable/modules/linear_model.html#logistic-regression\n",
      "  n_iter_i = _check_optimize_result(\n",
      "BayesSearchCV Progress:  27%|██▋       | 27/100 [00:13<01:05,  1.12it/s]/opt/homebrew/Caskroom/miniconda/base/envs/automl/lib/python3.11/site-packages/sklearn/linear_model/_logistic.py:469: ConvergenceWarning: lbfgs failed to converge (status=1):\n",
      "STOP: TOTAL NO. of ITERATIONS REACHED LIMIT.\n",
      "\n",
      "Increase the number of iterations (max_iter) or scale the data as shown in:\n",
      "    https://scikit-learn.org/stable/modules/preprocessing.html\n",
      "Please also refer to the documentation for alternative solver options:\n",
      "    https://scikit-learn.org/stable/modules/linear_model.html#logistic-regression\n",
      "  n_iter_i = _check_optimize_result(\n",
      "/opt/homebrew/Caskroom/miniconda/base/envs/automl/lib/python3.11/site-packages/sklearn/linear_model/_logistic.py:469: ConvergenceWarning: lbfgs failed to converge (status=1):\n",
      "STOP: TOTAL NO. of ITERATIONS REACHED LIMIT.\n",
      "\n",
      "Increase the number of iterations (max_iter) or scale the data as shown in:\n",
      "    https://scikit-learn.org/stable/modules/preprocessing.html\n",
      "Please also refer to the documentation for alternative solver options:\n",
      "    https://scikit-learn.org/stable/modules/linear_model.html#logistic-regression\n",
      "  n_iter_i = _check_optimize_result(\n",
      "/opt/homebrew/Caskroom/miniconda/base/envs/automl/lib/python3.11/site-packages/sklearn/linear_model/_logistic.py:469: ConvergenceWarning: lbfgs failed to converge (status=1):\n",
      "STOP: TOTAL NO. of ITERATIONS REACHED LIMIT.\n",
      "\n",
      "Increase the number of iterations (max_iter) or scale the data as shown in:\n",
      "    https://scikit-learn.org/stable/modules/preprocessing.html\n",
      "Please also refer to the documentation for alternative solver options:\n",
      "    https://scikit-learn.org/stable/modules/linear_model.html#logistic-regression\n",
      "  n_iter_i = _check_optimize_result(\n",
      "BayesSearchCV Progress:  31%|███       | 31/100 [00:17<01:07,  1.02it/s]/opt/homebrew/Caskroom/miniconda/base/envs/automl/lib/python3.11/site-packages/sklearn/linear_model/_logistic.py:469: ConvergenceWarning: lbfgs failed to converge (status=1):\n",
      "STOP: TOTAL NO. of ITERATIONS REACHED LIMIT.\n",
      "\n",
      "Increase the number of iterations (max_iter) or scale the data as shown in:\n",
      "    https://scikit-learn.org/stable/modules/preprocessing.html\n",
      "Please also refer to the documentation for alternative solver options:\n",
      "    https://scikit-learn.org/stable/modules/linear_model.html#logistic-regression\n",
      "  n_iter_i = _check_optimize_result(\n",
      "/opt/homebrew/Caskroom/miniconda/base/envs/automl/lib/python3.11/site-packages/sklearn/linear_model/_logistic.py:469: ConvergenceWarning: lbfgs failed to converge (status=1):\n",
      "STOP: TOTAL NO. of ITERATIONS REACHED LIMIT.\n",
      "\n",
      "Increase the number of iterations (max_iter) or scale the data as shown in:\n",
      "    https://scikit-learn.org/stable/modules/preprocessing.html\n",
      "Please also refer to the documentation for alternative solver options:\n",
      "    https://scikit-learn.org/stable/modules/linear_model.html#logistic-regression\n",
      "  n_iter_i = _check_optimize_result(\n",
      "/opt/homebrew/Caskroom/miniconda/base/envs/automl/lib/python3.11/site-packages/sklearn/linear_model/_logistic.py:469: ConvergenceWarning: lbfgs failed to converge (status=1):\n",
      "STOP: TOTAL NO. of ITERATIONS REACHED LIMIT.\n",
      "\n",
      "Increase the number of iterations (max_iter) or scale the data as shown in:\n",
      "    https://scikit-learn.org/stable/modules/preprocessing.html\n",
      "Please also refer to the documentation for alternative solver options:\n",
      "    https://scikit-learn.org/stable/modules/linear_model.html#logistic-regression\n",
      "  n_iter_i = _check_optimize_result(\n",
      "BayesSearchCV Progress:  32%|███▏      | 32/100 [00:18<01:11,  1.05s/it]/opt/homebrew/Caskroom/miniconda/base/envs/automl/lib/python3.11/site-packages/sklearn/linear_model/_logistic.py:469: ConvergenceWarning: lbfgs failed to converge (status=1):\n",
      "STOP: TOTAL NO. of ITERATIONS REACHED LIMIT.\n",
      "\n",
      "Increase the number of iterations (max_iter) or scale the data as shown in:\n",
      "    https://scikit-learn.org/stable/modules/preprocessing.html\n",
      "Please also refer to the documentation for alternative solver options:\n",
      "    https://scikit-learn.org/stable/modules/linear_model.html#logistic-regression\n",
      "  n_iter_i = _check_optimize_result(\n",
      "/opt/homebrew/Caskroom/miniconda/base/envs/automl/lib/python3.11/site-packages/sklearn/linear_model/_logistic.py:469: ConvergenceWarning: lbfgs failed to converge (status=1):\n",
      "STOP: TOTAL NO. of ITERATIONS REACHED LIMIT.\n",
      "\n",
      "Increase the number of iterations (max_iter) or scale the data as shown in:\n",
      "    https://scikit-learn.org/stable/modules/preprocessing.html\n",
      "Please also refer to the documentation for alternative solver options:\n",
      "    https://scikit-learn.org/stable/modules/linear_model.html#logistic-regression\n",
      "  n_iter_i = _check_optimize_result(\n",
      "/opt/homebrew/Caskroom/miniconda/base/envs/automl/lib/python3.11/site-packages/sklearn/linear_model/_logistic.py:469: ConvergenceWarning: lbfgs failed to converge (status=1):\n",
      "STOP: TOTAL NO. of ITERATIONS REACHED LIMIT.\n",
      "\n",
      "Increase the number of iterations (max_iter) or scale the data as shown in:\n",
      "    https://scikit-learn.org/stable/modules/preprocessing.html\n",
      "Please also refer to the documentation for alternative solver options:\n",
      "    https://scikit-learn.org/stable/modules/linear_model.html#logistic-regression\n",
      "  n_iter_i = _check_optimize_result(\n",
      "BayesSearchCV Progress:  63%|██████▎   | 63/100 [01:12<01:23,  2.26s/it]/opt/homebrew/Caskroom/miniconda/base/envs/automl/lib/python3.11/site-packages/sklearn/linear_model/_logistic.py:469: ConvergenceWarning: lbfgs failed to converge (status=1):\n",
      "STOP: TOTAL NO. of ITERATIONS REACHED LIMIT.\n",
      "\n",
      "Increase the number of iterations (max_iter) or scale the data as shown in:\n",
      "    https://scikit-learn.org/stable/modules/preprocessing.html\n",
      "Please also refer to the documentation for alternative solver options:\n",
      "    https://scikit-learn.org/stable/modules/linear_model.html#logistic-regression\n",
      "  n_iter_i = _check_optimize_result(\n",
      "/opt/homebrew/Caskroom/miniconda/base/envs/automl/lib/python3.11/site-packages/sklearn/linear_model/_logistic.py:469: ConvergenceWarning: lbfgs failed to converge (status=1):\n",
      "STOP: TOTAL NO. of ITERATIONS REACHED LIMIT.\n",
      "\n",
      "Increase the number of iterations (max_iter) or scale the data as shown in:\n",
      "    https://scikit-learn.org/stable/modules/preprocessing.html\n",
      "Please also refer to the documentation for alternative solver options:\n",
      "    https://scikit-learn.org/stable/modules/linear_model.html#logistic-regression\n",
      "  n_iter_i = _check_optimize_result(\n",
      "/opt/homebrew/Caskroom/miniconda/base/envs/automl/lib/python3.11/site-packages/sklearn/linear_model/_logistic.py:469: ConvergenceWarning: lbfgs failed to converge (status=1):\n",
      "STOP: TOTAL NO. of ITERATIONS REACHED LIMIT.\n",
      "\n",
      "Increase the number of iterations (max_iter) or scale the data as shown in:\n",
      "    https://scikit-learn.org/stable/modules/preprocessing.html\n",
      "Please also refer to the documentation for alternative solver options:\n",
      "    https://scikit-learn.org/stable/modules/linear_model.html#logistic-regression\n",
      "  n_iter_i = _check_optimize_result(\n",
      "BayesSearchCV Progress:  67%|██████▋   | 67/100 [01:22<01:19,  2.41s/it]/opt/homebrew/Caskroom/miniconda/base/envs/automl/lib/python3.11/site-packages/sklearn/linear_model/_logistic.py:469: ConvergenceWarning: lbfgs failed to converge (status=1):\n",
      "STOP: TOTAL NO. of ITERATIONS REACHED LIMIT.\n",
      "\n",
      "Increase the number of iterations (max_iter) or scale the data as shown in:\n",
      "    https://scikit-learn.org/stable/modules/preprocessing.html\n",
      "Please also refer to the documentation for alternative solver options:\n",
      "    https://scikit-learn.org/stable/modules/linear_model.html#logistic-regression\n",
      "  n_iter_i = _check_optimize_result(\n",
      "/opt/homebrew/Caskroom/miniconda/base/envs/automl/lib/python3.11/site-packages/sklearn/linear_model/_logistic.py:469: ConvergenceWarning: lbfgs failed to converge (status=1):\n",
      "STOP: TOTAL NO. of ITERATIONS REACHED LIMIT.\n",
      "\n",
      "Increase the number of iterations (max_iter) or scale the data as shown in:\n",
      "    https://scikit-learn.org/stable/modules/preprocessing.html\n",
      "Please also refer to the documentation for alternative solver options:\n",
      "    https://scikit-learn.org/stable/modules/linear_model.html#logistic-regression\n",
      "  n_iter_i = _check_optimize_result(\n",
      "/opt/homebrew/Caskroom/miniconda/base/envs/automl/lib/python3.11/site-packages/sklearn/linear_model/_logistic.py:469: ConvergenceWarning: lbfgs failed to converge (status=1):\n",
      "STOP: TOTAL NO. of ITERATIONS REACHED LIMIT.\n",
      "\n",
      "Increase the number of iterations (max_iter) or scale the data as shown in:\n",
      "    https://scikit-learn.org/stable/modules/preprocessing.html\n",
      "Please also refer to the documentation for alternative solver options:\n",
      "    https://scikit-learn.org/stable/modules/linear_model.html#logistic-regression\n",
      "  n_iter_i = _check_optimize_result(\n",
      "BayesSearchCV Progress:  86%|████████▌ | 86/100 [02:20<00:47,  3.40s/it]/opt/homebrew/Caskroom/miniconda/base/envs/automl/lib/python3.11/site-packages/sklearn/linear_model/_logistic.py:469: ConvergenceWarning: lbfgs failed to converge (status=1):\n",
      "STOP: TOTAL NO. of ITERATIONS REACHED LIMIT.\n",
      "\n",
      "Increase the number of iterations (max_iter) or scale the data as shown in:\n",
      "    https://scikit-learn.org/stable/modules/preprocessing.html\n",
      "Please also refer to the documentation for alternative solver options:\n",
      "    https://scikit-learn.org/stable/modules/linear_model.html#logistic-regression\n",
      "  n_iter_i = _check_optimize_result(\n",
      "/opt/homebrew/Caskroom/miniconda/base/envs/automl/lib/python3.11/site-packages/sklearn/linear_model/_logistic.py:469: ConvergenceWarning: lbfgs failed to converge (status=1):\n",
      "STOP: TOTAL NO. of ITERATIONS REACHED LIMIT.\n",
      "\n",
      "Increase the number of iterations (max_iter) or scale the data as shown in:\n",
      "    https://scikit-learn.org/stable/modules/preprocessing.html\n",
      "Please also refer to the documentation for alternative solver options:\n",
      "    https://scikit-learn.org/stable/modules/linear_model.html#logistic-regression\n",
      "  n_iter_i = _check_optimize_result(\n",
      "/opt/homebrew/Caskroom/miniconda/base/envs/automl/lib/python3.11/site-packages/sklearn/linear_model/_logistic.py:469: ConvergenceWarning: lbfgs failed to converge (status=1):\n",
      "STOP: TOTAL NO. of ITERATIONS REACHED LIMIT.\n",
      "\n",
      "Increase the number of iterations (max_iter) or scale the data as shown in:\n",
      "    https://scikit-learn.org/stable/modules/preprocessing.html\n",
      "Please also refer to the documentation for alternative solver options:\n",
      "    https://scikit-learn.org/stable/modules/linear_model.html#logistic-regression\n",
      "  n_iter_i = _check_optimize_result(\n",
      "BayesSearchCV Progress:  88%|████████▊ | 88/100 [02:27<00:42,  3.52s/it]/opt/homebrew/Caskroom/miniconda/base/envs/automl/lib/python3.11/site-packages/sklearn/linear_model/_logistic.py:469: ConvergenceWarning: lbfgs failed to converge (status=1):\n",
      "STOP: TOTAL NO. of ITERATIONS REACHED LIMIT.\n",
      "\n",
      "Increase the number of iterations (max_iter) or scale the data as shown in:\n",
      "    https://scikit-learn.org/stable/modules/preprocessing.html\n",
      "Please also refer to the documentation for alternative solver options:\n",
      "    https://scikit-learn.org/stable/modules/linear_model.html#logistic-regression\n",
      "  n_iter_i = _check_optimize_result(\n",
      "/opt/homebrew/Caskroom/miniconda/base/envs/automl/lib/python3.11/site-packages/sklearn/linear_model/_logistic.py:469: ConvergenceWarning: lbfgs failed to converge (status=1):\n",
      "STOP: TOTAL NO. of ITERATIONS REACHED LIMIT.\n",
      "\n",
      "Increase the number of iterations (max_iter) or scale the data as shown in:\n",
      "    https://scikit-learn.org/stable/modules/preprocessing.html\n",
      "Please also refer to the documentation for alternative solver options:\n",
      "    https://scikit-learn.org/stable/modules/linear_model.html#logistic-regression\n",
      "  n_iter_i = _check_optimize_result(\n",
      "/opt/homebrew/Caskroom/miniconda/base/envs/automl/lib/python3.11/site-packages/sklearn/linear_model/_logistic.py:469: ConvergenceWarning: lbfgs failed to converge (status=1):\n",
      "STOP: TOTAL NO. of ITERATIONS REACHED LIMIT.\n",
      "\n",
      "Increase the number of iterations (max_iter) or scale the data as shown in:\n",
      "    https://scikit-learn.org/stable/modules/preprocessing.html\n",
      "Please also refer to the documentation for alternative solver options:\n",
      "    https://scikit-learn.org/stable/modules/linear_model.html#logistic-regression\n",
      "  n_iter_i = _check_optimize_result(\n",
      "BayesSearchCV Progress:  89%|████████▉ | 89/100 [02:30<00:38,  3.53s/it]/opt/homebrew/Caskroom/miniconda/base/envs/automl/lib/python3.11/site-packages/sklearn/linear_model/_logistic.py:469: ConvergenceWarning: lbfgs failed to converge (status=1):\n",
      "STOP: TOTAL NO. of ITERATIONS REACHED LIMIT.\n",
      "\n",
      "Increase the number of iterations (max_iter) or scale the data as shown in:\n",
      "    https://scikit-learn.org/stable/modules/preprocessing.html\n",
      "Please also refer to the documentation for alternative solver options:\n",
      "    https://scikit-learn.org/stable/modules/linear_model.html#logistic-regression\n",
      "  n_iter_i = _check_optimize_result(\n",
      "/opt/homebrew/Caskroom/miniconda/base/envs/automl/lib/python3.11/site-packages/sklearn/linear_model/_logistic.py:469: ConvergenceWarning: lbfgs failed to converge (status=1):\n",
      "STOP: TOTAL NO. of ITERATIONS REACHED LIMIT.\n",
      "\n",
      "Increase the number of iterations (max_iter) or scale the data as shown in:\n",
      "    https://scikit-learn.org/stable/modules/preprocessing.html\n",
      "Please also refer to the documentation for alternative solver options:\n",
      "    https://scikit-learn.org/stable/modules/linear_model.html#logistic-regression\n",
      "  n_iter_i = _check_optimize_result(\n",
      "/opt/homebrew/Caskroom/miniconda/base/envs/automl/lib/python3.11/site-packages/sklearn/linear_model/_logistic.py:469: ConvergenceWarning: lbfgs failed to converge (status=1):\n",
      "STOP: TOTAL NO. of ITERATIONS REACHED LIMIT.\n",
      "\n",
      "Increase the number of iterations (max_iter) or scale the data as shown in:\n",
      "    https://scikit-learn.org/stable/modules/preprocessing.html\n",
      "Please also refer to the documentation for alternative solver options:\n",
      "    https://scikit-learn.org/stable/modules/linear_model.html#logistic-regression\n",
      "  n_iter_i = _check_optimize_result(\n",
      "BayesSearchCV Progress:  95%|█████████▌| 95/100 [02:55<00:20,  4.07s/it]/opt/homebrew/Caskroom/miniconda/base/envs/automl/lib/python3.11/site-packages/sklearn/linear_model/_logistic.py:469: ConvergenceWarning: lbfgs failed to converge (status=1):\n",
      "STOP: TOTAL NO. of ITERATIONS REACHED LIMIT.\n",
      "\n",
      "Increase the number of iterations (max_iter) or scale the data as shown in:\n",
      "    https://scikit-learn.org/stable/modules/preprocessing.html\n",
      "Please also refer to the documentation for alternative solver options:\n",
      "    https://scikit-learn.org/stable/modules/linear_model.html#logistic-regression\n",
      "  n_iter_i = _check_optimize_result(\n",
      "/opt/homebrew/Caskroom/miniconda/base/envs/automl/lib/python3.11/site-packages/sklearn/linear_model/_logistic.py:469: ConvergenceWarning: lbfgs failed to converge (status=1):\n",
      "STOP: TOTAL NO. of ITERATIONS REACHED LIMIT.\n",
      "\n",
      "Increase the number of iterations (max_iter) or scale the data as shown in:\n",
      "    https://scikit-learn.org/stable/modules/preprocessing.html\n",
      "Please also refer to the documentation for alternative solver options:\n",
      "    https://scikit-learn.org/stable/modules/linear_model.html#logistic-regression\n",
      "  n_iter_i = _check_optimize_result(\n",
      "/opt/homebrew/Caskroom/miniconda/base/envs/automl/lib/python3.11/site-packages/sklearn/linear_model/_logistic.py:469: ConvergenceWarning: lbfgs failed to converge (status=1):\n",
      "STOP: TOTAL NO. of ITERATIONS REACHED LIMIT.\n",
      "\n",
      "Increase the number of iterations (max_iter) or scale the data as shown in:\n",
      "    https://scikit-learn.org/stable/modules/preprocessing.html\n",
      "Please also refer to the documentation for alternative solver options:\n",
      "    https://scikit-learn.org/stable/modules/linear_model.html#logistic-regression\n",
      "  n_iter_i = _check_optimize_result(\n",
      "BayesSearchCV Progress: 100%|██████████| 100/100 [03:17<00:00,  1.98s/it]\n"
     ]
    },
    {
     "name": "stdout",
     "output_type": "stream",
     "text": [
      "\t Took -197.96674990653992 seconds.\n",
      "Creating optimization process for dataset 4\n"
     ]
    },
    {
     "name": "stderr",
     "output_type": "stream",
     "text": [
      "BayesSearchCV Progress: 100%|██████████| 100/100 [03:04<00:00,  1.84s/it]"
     ]
    },
    {
     "name": "stdout",
     "output_type": "stream",
     "text": [
      "\t Took -184.4291651248932 seconds.\n"
     ]
    },
    {
     "name": "stderr",
     "output_type": "stream",
     "text": [
      "\n"
     ]
    }
   ],
   "source": [
    "grids, spaces = perform_bayes_search(\n",
    "    clf_class=LogisticRegression,\n",
    "    search_spaces=param_space,\n",
    "    n_runs=10**2,\n",
    "    n_jobs=-1,\n",
    ")"
   ]
  },
  {
   "cell_type": "code",
   "execution_count": 21,
   "metadata": {},
   "outputs": [
    {
     "name": "stdout",
     "output_type": "stream",
     "text": [
      "Generating raport for dataset 0\n",
      "Generating raport for dataset 1\n",
      "Generating raport for dataset 2\n",
      "Generating raport for dataset 3\n",
      "Generating raport for dataset 4\n"
     ]
    }
   ],
   "source": [
    "raports = generate_raports(grids, spaces, \"logistic_bayes.json\")"
   ]
  },
  {
   "cell_type": "markdown",
   "metadata": {},
   "source": [
    "## KNN"
   ]
  },
  {
   "cell_type": "markdown",
   "metadata": {},
   "source": [
    "Motivation for this parameter space:\n",
    "\n",
    "- [Official documentation](https://scikit-learn.org/stable/modules/generated/sklearn.neighbors.KNeighborsClassifier.html)\n",
    "- [Medium](https://medium.com/@mohtedibf/in-depth-parameter-tuning-for-knn-4c0de485baf6)\n",
    "- [Some intuition](https://www.datasklr.com/select-classification-methods/k-nearest-neighbors)"
   ]
  },
  {
   "cell_type": "code",
   "execution_count": 22,
   "metadata": {},
   "outputs": [],
   "source": [
    "param_space = {\n",
    "    \"n_neighbors\": [3, 5, 7, 9, 11, 15, 30, 50],\n",
    "    \"weights\": [\"uniform\", \"distance\"],\n",
    "    \"algorithm\": [\"auto\", \"ball_tree\", \"kd_tree\", \"brute\"],\n",
    "    \"metric\": [\"euclidean\", \"manhattan\", \"minkowski\", \"chebyshev\"],\n",
    "    \"leaf_size\": [20, 30, 40, 50],\n",
    "}"
   ]
  },
  {
   "cell_type": "code",
   "execution_count": 23,
   "metadata": {},
   "outputs": [
    {
     "name": "stdout",
     "output_type": "stream",
     "text": [
      "Creating optimization process for dataset 0\n"
     ]
    },
    {
     "name": "stderr",
     "output_type": "stream",
     "text": [
      "BayesSearchCV Progress: 100%|██████████| 100/100 [03:27<00:00,  2.07s/it]\n"
     ]
    },
    {
     "name": "stdout",
     "output_type": "stream",
     "text": [
      "\t Took -207.469340801239 seconds.\n",
      "Creating optimization process for dataset 1\n"
     ]
    },
    {
     "name": "stderr",
     "output_type": "stream",
     "text": [
      "BayesSearchCV Progress: 100%|██████████| 100/100 [04:00<00:00,  2.40s/it]\n"
     ]
    },
    {
     "name": "stdout",
     "output_type": "stream",
     "text": [
      "\t Took -240.05590415000916 seconds.\n",
      "Creating optimization process for dataset 2\n"
     ]
    },
    {
     "name": "stderr",
     "output_type": "stream",
     "text": [
      "BayesSearchCV Progress: 100%|██████████| 100/100 [03:52<00:00,  2.32s/it]\n"
     ]
    },
    {
     "name": "stdout",
     "output_type": "stream",
     "text": [
      "\t Took -232.41501903533936 seconds.\n",
      "Creating optimization process for dataset 3\n"
     ]
    },
    {
     "name": "stderr",
     "output_type": "stream",
     "text": [
      "BayesSearchCV Progress: 100%|██████████| 100/100 [04:34<00:00,  2.75s/it]\n"
     ]
    },
    {
     "name": "stdout",
     "output_type": "stream",
     "text": [
      "\t Took -274.81183886528015 seconds.\n",
      "Creating optimization process for dataset 4\n"
     ]
    },
    {
     "name": "stderr",
     "output_type": "stream",
     "text": [
      "BayesSearchCV Progress: 100%|██████████| 100/100 [03:48<00:00,  2.28s/it]"
     ]
    },
    {
     "name": "stdout",
     "output_type": "stream",
     "text": [
      "\t Took -228.414208650589 seconds.\n"
     ]
    },
    {
     "name": "stderr",
     "output_type": "stream",
     "text": [
      "\n"
     ]
    }
   ],
   "source": [
    "grids, spaces = perform_bayes_search(\n",
    "    clf_class=KNeighborsClassifier,\n",
    "    search_spaces=param_space,\n",
    "    n_runs=10**2,\n",
    "    n_jobs=-1,\n",
    ")"
   ]
  },
  {
   "cell_type": "code",
   "execution_count": 24,
   "metadata": {},
   "outputs": [
    {
     "name": "stdout",
     "output_type": "stream",
     "text": [
      "Generating raport for dataset 0\n",
      "Generating raport for dataset 1\n",
      "Generating raport for dataset 2\n",
      "Generating raport for dataset 3\n",
      "Generating raport for dataset 4\n"
     ]
    }
   ],
   "source": [
    "raports = generate_raports(grids, spaces, \"knn_bayes.json\")"
   ]
  }
 ],
 "metadata": {
  "kernelspec": {
   "display_name": "automl",
   "language": "python",
   "name": "python3"
  },
  "language_info": {
   "codemirror_mode": {
    "name": "ipython",
    "version": 3
   },
   "file_extension": ".py",
   "mimetype": "text/x-python",
   "name": "python",
   "nbconvert_exporter": "python",
   "pygments_lexer": "ipython3",
   "version": "3.11.10"
  }
 },
 "nbformat": 4,
 "nbformat_minor": 2
}
